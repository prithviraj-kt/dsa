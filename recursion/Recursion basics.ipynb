{
 "cells": [
  {
   "cell_type": "markdown",
   "metadata": {},
   "source": [
    "**1. Print name n times using recursion**\n"
   ]
  },
  {
   "cell_type": "code",
   "execution_count": null,
   "metadata": {},
   "outputs": [
    {
     "name": "stdout",
     "output_type": "stream",
     "text": [
      "12 . Prithviraj\n",
      "11 . Prithviraj\n",
      "10 . Prithviraj\n",
      "9 . Prithviraj\n",
      "8 . Prithviraj\n",
      "7 . Prithviraj\n",
      "6 . Prithviraj\n",
      "5 . Prithviraj\n",
      "4 . Prithviraj\n",
      "3 . Prithviraj\n",
      "2 . Prithviraj\n",
      "1 . Prithviraj\n"
     ]
    }
   ],
   "source": [
    "def func(n):\n",
    "    if n<1:\n",
    "        return\n",
    "    print(n,\". Prithviraj\")\n",
    "    func(n-1)\n",
    "    pass\n",
    "\n",
    "n = int(input(\"Enter number: \"))\n",
    "func(n)"
   ]
  },
  {
   "cell_type": "markdown",
   "metadata": {},
   "source": [
    "**2. Print numbers 1-n using recursion**"
   ]
  },
  {
   "cell_type": "code",
   "execution_count": 4,
   "metadata": {},
   "outputs": [
    {
     "name": "stdout",
     "output_type": "stream",
     "text": [
      "1\n",
      "2\n",
      "3\n"
     ]
    }
   ],
   "source": [
    "def print_numbers(n, count):\n",
    "    if count>n:\n",
    "        return\n",
    "    print(count)\n",
    "    print_numbers(n, count+1)\n",
    "    pass\n",
    "n = int(input(\"Enter number: \"))\n",
    "print_numbers(n, 1)"
   ]
  },
  {
   "cell_type": "markdown",
   "metadata": {},
   "source": [
    "**3. Print numbers n-1**"
   ]
  },
  {
   "cell_type": "code",
   "execution_count": 5,
   "metadata": {},
   "outputs": [
    {
     "name": "stdout",
     "output_type": "stream",
     "text": [
      "3\n",
      "2\n",
      "1\n"
     ]
    }
   ],
   "source": [
    "def print_numbers_reverse(n):\n",
    "    if n<1:\n",
    "        return\n",
    "    print(n)\n",
    "    print_numbers_reverse(n-1)\n",
    "n = int(input(\"Enter number: \"))\n",
    "print_numbers_reverse(n)\n"
   ]
  },
  {
   "cell_type": "markdown",
   "metadata": {},
   "source": [
    "# Parameterized v/s non-parameterized recursion\n",
    "\n",
    "**4. Sum of first n numbers using parameterized**"
   ]
  },
  {
   "cell_type": "code",
   "execution_count": null,
   "metadata": {},
   "outputs": [
    {
     "name": "stdout",
     "output_type": "stream",
     "text": [
      "6\n"
     ]
    }
   ],
   "source": [
    "#Sum is parameterized as it is increasing and printing at last, not returning\n",
    "def print_sum(n, sum):\n",
    "    if (n<1):\n",
    "        print(sum)\n",
    "        return\n",
    "    print_sum(n-1, sum+n)\n",
    "\n",
    "n = int(input(\"Enter the number: \"))\n",
    "print_sum(n,0)"
   ]
  },
  {
   "cell_type": "markdown",
   "metadata": {},
   "source": [
    "**5. Sum with non-parameterized**"
   ]
  },
  {
   "cell_type": "code",
   "execution_count": 8,
   "metadata": {},
   "outputs": [
    {
     "data": {
      "text/plain": [
       "55"
      ]
     },
     "execution_count": 8,
     "metadata": {},
     "output_type": "execute_result"
    }
   ],
   "source": [
    "def print_sum_np(n):\n",
    "    if n==0:\n",
    "        return 0\n",
    "    return n+print_sum_np(n-1)\n",
    "\n",
    "n = 10\n",
    "print_sum_np(n)"
   ]
  },
  {
   "cell_type": "markdown",
   "metadata": {},
   "source": [
    "**6. Factorial of n using recursion**"
   ]
  },
  {
   "cell_type": "code",
   "execution_count": 12,
   "metadata": {},
   "outputs": [
    {
     "data": {
      "text/plain": [
       "24"
      ]
     },
     "execution_count": 12,
     "metadata": {},
     "output_type": "execute_result"
    }
   ],
   "source": [
    "def fact(n):\n",
    "    if n==0:\n",
    "        return 1\n",
    "    return n*fact(n-1)\n",
    "\n",
    "n = 4\n",
    "fact(n)"
   ]
  },
  {
   "cell_type": "markdown",
   "metadata": {},
   "source": [
    "**7. Reverse an array**"
   ]
  },
  {
   "cell_type": "code",
   "execution_count": 6,
   "metadata": {},
   "outputs": [
    {
     "name": "stdout",
     "output_type": "stream",
     "text": [
      "[6, 5, 4, 3, 2, 1]\n",
      "[6, 5, 4, 3, 2, 1]\n"
     ]
    }
   ],
   "source": [
    "#Reverse using two pointer\n",
    "def reverse_two_pointer(a,l,r):\n",
    "    if l>=r:\n",
    "        print(a)\n",
    "        return\n",
    "    a[l],a[r] = a[r], a[l]\n",
    "    reverse_two_pointer(a,l+1,r-1)\n",
    "    pass\n",
    "\n",
    "#Reverse using one pointer\n",
    "def reverse_one_pointer(a,id, n):\n",
    "    if id<=n:\n",
    "        print(a)\n",
    "        return\n",
    "    a[id],a[n-id-1] = a[n-id-1], a[id]\n",
    "    reverse_one_pointer(a,id+1,n)\n",
    "\n",
    "a = [1,2,3,4,5,6]\n",
    "reverse_two_pointer(a,0,len(a)-1)\n",
    "reverse_one_pointer(a,0,len(a))\n"
   ]
  },
  {
   "cell_type": "markdown",
   "metadata": {},
   "source": [
    "**8. Check if string is palindrome**"
   ]
  },
  {
   "cell_type": "code",
   "execution_count": 13,
   "metadata": {},
   "outputs": [
    {
     "name": "stdout",
     "output_type": "stream",
     "text": [
      "Valid palindrome\n"
     ]
    }
   ],
   "source": [
    "def check_paliondrome(string, l,r):\n",
    "    if l>=r:\n",
    "        print(\"Valid palindrome\")\n",
    "        return\n",
    "    if string[l]!=string[r]:\n",
    "        print(\"Invalid palindrome\")\n",
    "        return\n",
    "    check_paliondrome(string,l+1,r-1)\n",
    "\n",
    "string = \"abcdcba\"\n",
    "check_paliondrome(string, 0, len(string)-1)\n",
    "    "
   ]
  },
  {
   "cell_type": "markdown",
   "metadata": {},
   "source": [
    "# Multiple recursion calls\n"
   ]
  }
 ],
 "metadata": {
  "kernelspec": {
   "display_name": "Python 3",
   "language": "python",
   "name": "python3"
  },
  "language_info": {
   "codemirror_mode": {
    "name": "ipython",
    "version": 3
   },
   "file_extension": ".py",
   "mimetype": "text/x-python",
   "name": "python",
   "nbconvert_exporter": "python",
   "pygments_lexer": "ipython3",
   "version": "3.12.5"
  }
 },
 "nbformat": 4,
 "nbformat_minor": 2
}
