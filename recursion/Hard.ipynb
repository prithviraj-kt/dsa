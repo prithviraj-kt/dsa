{
 "cells": [
  {
   "cell_type": "code",
   "execution_count": 1,
   "metadata": {},
   "outputs": [
    {
     "name": "stdout",
     "output_type": "stream",
     "text": [
      "Hello\n"
     ]
    }
   ],
   "source": [
    "print(\"Hello\")"
   ]
  },
  {
   "cell_type": "code",
   "execution_count": 2,
   "metadata": {},
   "outputs": [
    {
     "name": "stdout",
     "output_type": "stream",
     "text": [
      "[[1, 2, 3], [1, 3, 2], [2, 1, 3], [2, 3, 1], [3, 1, 2], [3, 2, 1]]\n"
     ]
    }
   ],
   "source": [
    "def helper( nums, ds, ans, freq):\n",
    "        if len(ds)==len(nums):\n",
    "            ans.append(ds[:])\n",
    "            return\n",
    "        for i in range(len(nums)):\n",
    "            if not freq[i]:\n",
    "                freq[i] = True\n",
    "                ds.append(nums[i])\n",
    "                helper(nums,ds,ans,freq)\n",
    "                ds.pop()\n",
    "                freq[i] = False\n",
    "        return ans\n",
    "def permute(nums):\n",
    "    freq = [False]*len(nums)\n",
    "    return helper(nums,[],[],freq)\n",
    "\n",
    "res = permute([1,2,3])\n",
    "print(res)\n",
    "        "
   ]
  }
 ],
 "metadata": {
  "kernelspec": {
   "display_name": "Python 3",
   "language": "python",
   "name": "python3"
  },
  "language_info": {
   "codemirror_mode": {
    "name": "ipython",
    "version": 3
   },
   "file_extension": ".py",
   "mimetype": "text/x-python",
   "name": "python",
   "nbconvert_exporter": "python",
   "pygments_lexer": "ipython3",
   "version": "3.12.10"
  }
 },
 "nbformat": 4,
 "nbformat_minor": 2
}
