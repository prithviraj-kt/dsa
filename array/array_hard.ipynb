{
 "cells": [
  {
   "cell_type": "markdown",
   "metadata": {},
   "source": [
    "**1. Majority Element-I**\n",
    "\n",
    "Given an integer array nums of size n, return the majority element of the array.\n",
    "\n",
    "The majority element of an array is an element that appears more than n/2 times in the array. The array is guaranteed to have a majority element."
   ]
  },
  {
   "cell_type": "code",
   "execution_count": 4,
   "metadata": {},
   "outputs": [
    {
     "name": "stdout",
     "output_type": "stream",
     "text": [
      "8\n"
     ]
    }
   ],
   "source": [
    "def majorityElement(nums) -> int:\n",
    "        has = {}\n",
    "        n = len(nums)\n",
    "        for i in range(n):\n",
    "            if nums[i] not in has:\n",
    "                has[nums[i]] = 1\n",
    "            else:\n",
    "                has[nums[i]] +=1\n",
    "        max_elem = 0\n",
    "        max_count = 0\n",
    "        for key,val in has.items():\n",
    "            if val>max_count:\n",
    "                max_count = val\n",
    "                max_elem = key\n",
    "        return max_elem\n",
    "\n",
    "arr = [1,1,2,3,4,5,5,5,6,7,8,8,8,8,8,10]\n",
    "res = majorityElement(arr)\n",
    "print(res)"
   ]
  },
  {
   "cell_type": "markdown",
   "metadata": {},
   "source": [
    "**2. Major element 2**\n",
    "\n",
    "Given an integer array nums of size n. Return all elements which appear more than n/3 times in the array. The output can be returned in any order."
   ]
  },
  {
   "cell_type": "code",
   "execution_count": 5,
   "metadata": {},
   "outputs": [
    {
     "name": "stdout",
     "output_type": "stream",
     "text": [
      "8\n"
     ]
    }
   ],
   "source": [
    "def majorityElementTwo(nums):\n",
    "        has = {}\n",
    "        n = len(nums)\n",
    "        for i in range(n):\n",
    "            if nums[i] not in has:\n",
    "                has[nums[i]] = 1\n",
    "            else:\n",
    "                has[nums[i]] +=1\n",
    "        temp = []\n",
    "        for key,val in has.items():\n",
    "            if val>n//3:\n",
    "                temp.append(key)\n",
    "        return temp\n",
    "arr = [1,1,2,3,4,5,5,5,6,7,8,8,8,8,8,10]\n",
    "res = majorityElement(arr)\n",
    "print(res)"
   ]
  },
  {
   "cell_type": "code",
   "execution_count": null,
   "metadata": {},
   "outputs": [],
   "source": []
  },
  {
   "cell_type": "code",
   "execution_count": null,
   "metadata": {},
   "outputs": [],
   "source": []
  }
 ],
 "metadata": {
  "kernelspec": {
   "display_name": "Python 3",
   "language": "python",
   "name": "python3"
  },
  "language_info": {
   "codemirror_mode": {
    "name": "ipython",
    "version": 3
   },
   "file_extension": ".py",
   "mimetype": "text/x-python",
   "name": "python",
   "nbconvert_exporter": "python",
   "pygments_lexer": "ipython3",
   "version": "3.12.8"
  }
 },
 "nbformat": 4,
 "nbformat_minor": 2
}
