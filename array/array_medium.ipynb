{
 "cells": [
  {
   "cell_type": "markdown",
   "metadata": {},
   "source": [
    "**Leaders in an Array**\n",
    "\n",
    "\n",
    "Given an integer array nums, return a list of all the leaders in the array.\n",
    "\n",
    "A leader in an array is an element whose value is strictly greater than all elements to its right in the given array. The rightmost element is always a leader. The elements in the leader array must appear in the order they appear in the nums array."
   ]
  },
  {
   "cell_type": "code",
   "execution_count": 6,
   "metadata": {},
   "outputs": [
    {
     "name": "stdout",
     "output_type": "stream",
     "text": [
      "[110, 10]\n",
      "[110, 10]\n"
     ]
    }
   ],
   "source": [
    "#Brute force approach O(n2)\n",
    "def find_leaders_brute(arr):\n",
    "    res = []\n",
    "    for i in range(len(arr)-1):\n",
    "        flag = True\n",
    "        for j in range(i+1, len(arr)):\n",
    "            if arr[j]>=arr[i]:\n",
    "                flag = False\n",
    "                break\n",
    "        if flag == True:\n",
    "            res.append(arr[i])\n",
    "    print(res)\n",
    "\n",
    "    pass\n",
    "\n",
    "\n",
    "#Optimized approach O(n)\n",
    "def find_leaders_optimized(arr):\n",
    "    max_sub = arr[-1]\n",
    "    res = []\n",
    "    for i in range(len(arr)-2,-1,-1):\n",
    "        if arr[i]>max_sub:\n",
    "            max_sub = arr[i]\n",
    "            res.append(arr[i])\n",
    "\n",
    "    print(res[::-1])\n",
    "\n",
    "    pass\n",
    "\n",
    "\n",
    "arr = [2,110,3,6,10,-1]\n",
    "find_leaders_brute(arr)\n",
    "find_leaders_optimized(arr)"
   ]
  }
 ],
 "metadata": {
  "kernelspec": {
   "display_name": "Python 3",
   "language": "python",
   "name": "python3"
  },
  "language_info": {
   "codemirror_mode": {
    "name": "ipython",
    "version": 3
   },
   "file_extension": ".py",
   "mimetype": "text/x-python",
   "name": "python",
   "nbconvert_exporter": "python",
   "pygments_lexer": "ipython3",
   "version": "3.12.8"
  }
 },
 "nbformat": 4,
 "nbformat_minor": 2
}
