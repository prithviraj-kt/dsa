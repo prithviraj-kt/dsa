{
 "cells": [
  {
   "cell_type": "markdown",
   "metadata": {},
   "source": [
    "**1. Leaders in an Array**\n",
    "\n",
    "\n",
    "Given an integer array nums, return a list of all the leaders in the array.\n",
    "\n",
    "A leader in an array is an element whose value is strictly greater than all elements to its right in the given array. The rightmost element is always a leader. The elements in the leader array must appear in the order they appear in the nums array."
   ]
  },
  {
   "cell_type": "code",
   "execution_count": 6,
   "metadata": {},
   "outputs": [
    {
     "name": "stdout",
     "output_type": "stream",
     "text": [
      "[110, 10]\n",
      "[110, 10]\n"
     ]
    }
   ],
   "source": [
    "#Brute force approach O(n2)\n",
    "def find_leaders_brute(arr):\n",
    "    res = []\n",
    "    for i in range(len(arr)-1):\n",
    "        flag = True\n",
    "        for j in range(i+1, len(arr)):\n",
    "            if arr[j]>=arr[i]:\n",
    "                flag = False\n",
    "                break\n",
    "        if flag == True:\n",
    "            res.append(arr[i])\n",
    "    print(res)\n",
    "\n",
    "    pass\n",
    "\n",
    "\n",
    "#Optimized approach O(n)\n",
    "def find_leaders_optimized(arr):\n",
    "    max_sub = arr[-1]\n",
    "    res = []\n",
    "    for i in range(len(arr)-2,-1,-1):\n",
    "        if arr[i]>max_sub:\n",
    "            max_sub = arr[i]\n",
    "            res.append(arr[i])\n",
    "\n",
    "    print(res[::-1])\n",
    "\n",
    "    pass\n",
    "\n",
    "\n",
    "arr = [2,110,3,6,10,-1]\n",
    "find_leaders_brute(arr)\n",
    "find_leaders_optimized(arr)"
   ]
  },
  {
   "cell_type": "markdown",
   "metadata": {},
   "source": [
    "**2. Print the matrix in spiral manner**\n",
    "\n",
    "Given an M * N matrix, print the elements in a clockwise spiral manner. Return an array with the elements in the order of their appearance when printed in a spiral manner."
   ]
  },
  {
   "cell_type": "code",
   "execution_count": 8,
   "metadata": {},
   "outputs": [
    {
     "name": "stdout",
     "output_type": "stream",
     "text": [
      "[1, 2, 3, 6, 9, 8, 7, 4, 5]\n"
     ]
    }
   ],
   "source": [
    "def spiralOrder(matrix):\n",
    "        left,right = 0, len(matrix[0])\n",
    "        top,bottom = 0, len(matrix)\n",
    "        res = []\n",
    "        while left<right and top<bottom:\n",
    "            for i in range(left, right):\n",
    "                res.append(matrix[top][i])\n",
    "            top+=1\n",
    "            for i in range(top, bottom):\n",
    "                res.append(matrix[i][right-1])\n",
    "            right-=1\n",
    "\n",
    "            if not(left<right and top<bottom):\n",
    "                break\n",
    "            for i in range(right-1, left - 1, -1):\n",
    "                res.append(matrix[bottom-1][i])\n",
    "            bottom -= 1\n",
    "            for i in range(bottom-1, top-1,-1):\n",
    "                res.append(matrix[i][left])\n",
    "            left+=1\n",
    "        print(res)\n",
    "\n",
    "matrix = [[1,2,3],[4,5,6],[7,8,9]]\n",
    "spiralOrder(matrix)"
   ]
  },
  {
   "cell_type": "markdown",
   "metadata": {},
   "source": [
    "**3. Rearrange array elements by sign**\n",
    "\n",
    "Given an integer array nums of even length consisting of an equal number of positive and negative integers.Return the answer array in such a way that the given conditions are met:\n",
    "\n",
    "*a. Every consecutive pair of integers have opposite signs*\n",
    "\n",
    "*b. For all integers with the same sign, the order in which they were present in nums is preserved*\n",
    "\n",
    "*c. The rearranged array begins with a positive integer*"
   ]
  },
  {
   "cell_type": "code",
   "execution_count": 15,
   "metadata": {},
   "outputs": [
    {
     "name": "stdout",
     "output_type": "stream",
     "text": [
      "[2, -1, 4, -3, 5, -4]\n"
     ]
    }
   ],
   "source": [
    "def rearrange(nums):\n",
    "    res = []\n",
    "    pos, neg = 0,1\n",
    "    for num in nums:\n",
    "        if num>0:\n",
    "            res.insert(pos,num)\n",
    "            pos+=2\n",
    "        else:\n",
    "            res.insert(neg, num)\n",
    "            neg+=2\n",
    "    return res\n",
    "\n",
    "arr = [2, 4, 5, -1, -3, -4]\n",
    "arr = rearrange(arr)\n",
    "print(arr)"
   ]
  },
  {
   "cell_type": "markdown",
   "metadata": {},
   "source": [
    "**4. Pascal's triangle**\n",
    "\n",
    "Given an integer numRows return the first numRows rows of Pascal's triangle.\n",
    "\n",
    "In Pascal's triangle:\n",
    "\n",
    "The first row has one element with a value of 1.\n",
    "Each row has one more element in it than its previous row.\n",
    "The value of each element is equal to the sum of the elements directly above it when arranged in a triangle format."
   ]
  },
  {
   "cell_type": "code",
   "execution_count": 16,
   "metadata": {},
   "outputs": [
    {
     "name": "stdout",
     "output_type": "stream",
     "text": [
      "[[1], [1, 1], [1, 2, 1], [1, 3, 3, 1], [1, 4, 6, 4, 1]]\n"
     ]
    }
   ],
   "source": [
    "def pascal(num):\n",
    "    res= [[1]]\n",
    "    for ind in range(num-1):\n",
    "        temp_arr = [0] + res[-1] + [0]\n",
    "        new_arr = []\n",
    "        for ind2 in range(len(res[-1])+1):\n",
    "            new_arr.append(temp_arr[ind2]+temp_arr[ind2+1])\n",
    "        res.append(new_arr)\n",
    "    print(res)\n",
    "num = 5\n",
    "pascal(num)"
   ]
  },
  {
   "cell_type": "markdown",
   "metadata": {},
   "source": [
    "**5. Rotate matrix by 90 degrees**\n",
    "\n",
    "before rotation\n",
    "   ##### [1, 2, 3]\n",
    "   ##### [4, 5, 6]\n",
    "   ##### [7, 8, 9]\n",
    "\n",
    "after roration\n",
    "   ##### [7, 4, 1]\n",
    "   ##### [8, 5, 2]\n",
    "   ##### [9, 6, 3]\n",
    "\n",
    "\n",
    "\n"
   ]
  },
  {
   "cell_type": "code",
   "execution_count": 2,
   "metadata": {},
   "outputs": [],
   "source": [
    "def rorate_matrix(mat):\n",
    "    pass"
   ]
  },
  {
   "cell_type": "markdown",
   "metadata": {},
   "source": [
    "**6. Two sum**"
   ]
  },
  {
   "cell_type": "code",
   "execution_count": null,
   "metadata": {},
   "outputs": [],
   "source": [
    "def two_sum_brute(arr,target):\n",
    "    pass"
   ]
  },
  {
   "cell_type": "markdown",
   "metadata": {},
   "source": [
    "**7. Three sum (a+b+C =0)**"
   ]
  },
  {
   "cell_type": "code",
   "execution_count": null,
   "metadata": {},
   "outputs": [],
   "source": [
    "def three_sum(arr):\n",
    "    pass"
   ]
  }
 ],
 "metadata": {
  "kernelspec": {
   "display_name": "Python 3",
   "language": "python",
   "name": "python3"
  },
  "language_info": {
   "codemirror_mode": {
    "name": "ipython",
    "version": 3
   },
   "file_extension": ".py",
   "mimetype": "text/x-python",
   "name": "python",
   "nbconvert_exporter": "python",
   "pygments_lexer": "ipython3",
   "version": "3.12.8"
  }
 },
 "nbformat": 4,
 "nbformat_minor": 2
}
