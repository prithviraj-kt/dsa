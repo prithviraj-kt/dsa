{
 "cells": [
  {
   "cell_type": "markdown",
   "metadata": {},
   "source": [
    "**1. Move zeros to end**"
   ]
  },
  {
   "cell_type": "code",
   "execution_count": 6,
   "metadata": {},
   "outputs": [
    {
     "name": "stdout",
     "output_type": "stream",
     "text": [
      "[2, 3, 4, -1, 0, 0, 0, 0, 0]\n"
     ]
    }
   ],
   "source": [
    "def move_zeros_end(nums):\n",
    "    c = nums.count(0)\n",
    "    nums[:] = [num for num in nums if num!=0]\n",
    "    nums.extend([0]*c)\n",
    "    return nums\n",
    "\n",
    "arr = [0,0,2,3,0,0,4,-1,0]\n",
    "res = move_zeros_end(arr)\n",
    "print(res)\n"
   ]
  }
 ],
 "metadata": {
  "kernelspec": {
   "display_name": "Python 3",
   "language": "python",
   "name": "python3"
  },
  "language_info": {
   "codemirror_mode": {
    "name": "ipython",
    "version": 3
   },
   "file_extension": ".py",
   "mimetype": "text/x-python",
   "name": "python",
   "nbconvert_exporter": "python",
   "pygments_lexer": "ipython3",
   "version": "3.12.8"
  }
 },
 "nbformat": 4,
 "nbformat_minor": 2
}
