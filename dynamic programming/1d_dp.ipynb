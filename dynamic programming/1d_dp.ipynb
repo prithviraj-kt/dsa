{
 "cells": [
  {
   "cell_type": "markdown",
   "id": "773c08d7",
   "metadata": {},
   "source": [
    "## Frog jump 1"
   ]
  },
  {
   "cell_type": "code",
   "execution_count": 13,
   "id": "6f2e12b8",
   "metadata": {},
   "outputs": [
    {
     "name": "stdout",
     "output_type": "stream",
     "text": [
      "[[2, 1, 3, 5, 4], [2, 1, 3, 4], [2, 1, 5, 4], [2, 3, 5, 4], [2, 3, 4]]\n",
      "[6, 4, 6, 4, 2]\n",
      "2\n"
     ]
    }
   ],
   "source": [
    "def frog(ind, n, res, arr, jumps):\n",
    "    if ind==n-1:\n",
    "        arr.append(jumps[ind])\n",
    "        res.append(arr.copy())\n",
    "        return\n",
    "    arr.append(jumps[ind])\n",
    "    if ind+1<n:\n",
    "        frog(ind+1, n, res, arr,jumps)\n",
    "        arr.pop()\n",
    "    if ind+2<n:\n",
    "        frog(ind+2, n, res, arr, jumps)\n",
    "        arr.pop()\n",
    "    return res\n",
    "\n",
    "jumps = [2,1,3,5,4]\n",
    "returnRes = frog(0,len(jumps), [], [], jumps)\n",
    "temp = []\n",
    "for i in range(len(returnRes)):\n",
    "    cur = 0\n",
    "    for j in range(1,len(returnRes[i])):\n",
    "        cur = cur + abs(returnRes[i][j]-returnRes[i][j-1])\n",
    "    temp.append(cur)\n",
    "print(returnRes)\n",
    "print(temp)\n",
    "print(min(temp))"
   ]
  },
  {
   "cell_type": "code",
   "execution_count": 16,
   "id": "c5052b53",
   "metadata": {},
   "outputs": [
    {
     "name": "stdout",
     "output_type": "stream",
     "text": [
      "2\n"
     ]
    }
   ],
   "source": [
    "def minimal_frogJump_rec(n,a):\n",
    "    if n==0:\n",
    "        return 0\n",
    "    left = minimal_frogJump_rec(n-1,a) + abs(a[n]-a[n-1])\n",
    "    if n>1:\n",
    "        right = minimal_frogJump_rec(n-2,a)+abs(a[n]-a[n-2])\n",
    "        return min(left, right)\n",
    "    return left\n",
    "\n",
    "jumps = [2,1,3,5,4]\n",
    "returnRes = minimal_frogJump_rec(len(jumps)-1,jumps)\n",
    "print(returnRes)"
   ]
  },
  {
   "cell_type": "code",
   "execution_count": 21,
   "id": "b07c9bb9",
   "metadata": {},
   "outputs": [
    {
     "name": "stdout",
     "output_type": "stream",
     "text": [
      "2\n"
     ]
    }
   ],
   "source": [
    "def memoize_frog_jump(n,jumps,dp):\n",
    "    if n==0:\n",
    "        return 0\n",
    "    if dp[n]!=-1:\n",
    "        return dp[n]\n",
    "    left = memoize_frog_jump(n-1, jumps, dp) + abs(jumps[n]-jumps[n-1])\n",
    "    if n>1:\n",
    "        right = memoize_frog_jump(n-2, jumps, dp) + abs(jumps[n]-jumps[n-2])\n",
    "        dp[n]=min(left, right)\n",
    "        return dp[n]\n",
    "    \n",
    "    dp[n]=left\n",
    "    return dp[n]\n",
    "\n",
    "\n",
    "jumps = [2,1,3,5,4]\n",
    "dp = [-1]*(len(jumps)+1)\n",
    "returnRes = memoize_frog_jump(len(jumps)-1, jumps, dp)\n",
    "print(returnRes)\n"
   ]
  },
  {
   "cell_type": "code",
   "execution_count": 26,
   "id": "1c0fda3a",
   "metadata": {},
   "outputs": [
    {
     "name": "stdout",
     "output_type": "stream",
     "text": [
      "2\n"
     ]
    }
   ],
   "source": [
    "# Tabulate frog jump\n",
    "jumps = [2,1,3,5,4]\n",
    "dp = [-1]*(len(jumps)+1)\n",
    "dp[0] = 0\n",
    "for i in range(1,len(jumps)):\n",
    "    l = dp[i-1]+abs(jumps[i]-jumps[i-1])\n",
    "    if i>1:\n",
    "        r = dp[i-2]+abs(jumps[i]-jumps[i-2])\n",
    "        dp[i] = min(l,r)\n",
    "    else:\n",
    "        dp[i]=l\n",
    "print(dp[len(jumps)-1])"
   ]
  },
  {
   "cell_type": "markdown",
   "id": "0fdae6b3",
   "metadata": {},
   "source": [
    "## Frog jump with k distance"
   ]
  },
  {
   "cell_type": "code",
   "execution_count": 36,
   "id": "cd19c22c",
   "metadata": {},
   "outputs": [
    {
     "name": "stdout",
     "output_type": "stream",
     "text": [
      "2\n"
     ]
    }
   ],
   "source": [
    "jumps = [2, 1, 3, 5, 4]\n",
    "n = len(jumps)\n",
    "k = 3\n",
    "dp = [-1] * n\n",
    "dp[0] = 0\n",
    "\n",
    "for i in range(1,n):\n",
    "    minDist = float('inf')\n",
    "    for j in range(1,k+1):\n",
    "        if i-j>=0:\n",
    "            jump = dp[i-j]+abs(jumps[i]-jumps[i-j])\n",
    "            minDist = min(jump,minDist)\n",
    "    dp[i] = minDist\n",
    "\n",
    "print(dp[-1])  # Output: 2\n",
    "\n",
    "\n"
   ]
  },
  {
   "cell_type": "code",
   "execution_count": null,
   "id": "39d36028",
   "metadata": {},
   "outputs": [],
   "source": []
  }
 ],
 "metadata": {
  "kernelspec": {
   "display_name": "Python 3",
   "language": "python",
   "name": "python3"
  },
  "language_info": {
   "codemirror_mode": {
    "name": "ipython",
    "version": 3
   },
   "file_extension": ".py",
   "mimetype": "text/x-python",
   "name": "python",
   "nbconvert_exporter": "python",
   "pygments_lexer": "ipython3",
   "version": "3.12.10"
  }
 },
 "nbformat": 4,
 "nbformat_minor": 5
}
