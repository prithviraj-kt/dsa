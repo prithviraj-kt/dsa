{
 "cells": [
  {
   "cell_type": "markdown",
   "metadata": {},
   "source": [
    "**1. Search X in sorted array**"
   ]
  },
  {
   "cell_type": "code",
   "execution_count": 3,
   "metadata": {},
   "outputs": [
    {
     "name": "stdout",
     "output_type": "stream",
     "text": [
      "4\n"
     ]
    }
   ],
   "source": [
    "def search(nums, target):\n",
    "        left, right = 0,len(nums)-1\n",
    "        while left<=right:\n",
    "            mid = (left+right) // 2\n",
    "            if nums[mid] == target:\n",
    "                return mid\n",
    "            elif nums[mid]>target:\n",
    "                right = mid-1\n",
    "            else:\n",
    "                left=mid+1\n",
    "        return -1\n",
    "arr = [1,2,3,4,5,6,7]\n",
    "res = search(arr, 5)\n",
    "print(res)"
   ]
  },
  {
   "cell_type": "markdown",
   "metadata": {},
   "source": [
    "**2. Lower Bound**\n",
    "\n",
    "Given a sorted array of nums and an integer x, write a program to find the lower bound of x. The lower bound algorithm finds the first or the smallest index in a sorted array where the value at that index is greater than or equal to a given key i.e. x.\n",
    "\n",
    "If no such index is found, return the size of the array"
   ]
  },
  {
   "cell_type": "code",
   "execution_count": 12,
   "metadata": {},
   "outputs": [
    {
     "name": "stdout",
     "output_type": "stream",
     "text": [
      "3\n"
     ]
    }
   ],
   "source": [
    "def lower_bound(arr, x):\n",
    "    left, right = 0, len(arr)-1\n",
    "    result = len(arr)\n",
    "    while left<=right:\n",
    "        mid = (left+right)//2\n",
    "        if arr[mid]>=x:\n",
    "            result = mid\n",
    "            right=mid-1\n",
    "        else:\n",
    "            left+=1\n",
    "    return result\n",
    "arr = [3,5,8,15,19]\n",
    "res = lower_bound(arr, 9)\n",
    "print(res)"
   ]
  },
  {
   "cell_type": "markdown",
   "metadata": {},
   "source": [
    "**3. Floor and Ceil in Sorted Array**\n",
    "\n",
    "Given a sorted array nums and an integer x. Find the floor and ceil of x in nums. The floor of x is the largest element in the array which is smaller than or equal to x. The ceiling of x is the smallest element in the array greater than or equal to x. If no floor or ceil exists, output -1."
   ]
  },
  {
   "cell_type": "code",
   "execution_count": 10,
   "metadata": {},
   "outputs": [
    {
     "name": "stdout",
     "output_type": "stream",
     "text": [
      "[4, 7]\n"
     ]
    }
   ],
   "source": [
    "def find_floor(nums, x):\n",
    "    left, right, ans = 0, len(nums)-1, -1\n",
    "    while left<=right:\n",
    "        mid = (left+right)//2\n",
    "        if nums[mid]<=x:\n",
    "            ans = nums[mid]\n",
    "            left = mid+1\n",
    "        else:\n",
    "            right = mid-1\n",
    "    return ans\n",
    "\n",
    "\n",
    "def find_ceil(nums, x):\n",
    "    left, right, ans = 0, len(nums)-1, -1\n",
    "    while left<=right:\n",
    "        mid = (left+right)//2\n",
    "        if nums[mid]>=x:\n",
    "            ans = nums[mid]\n",
    "            right = mid-1\n",
    "        else:\n",
    "            left = mid+1\n",
    "    return ans\n",
    "\n",
    "def find_floor_ceil(nums, x):\n",
    "    return [find_floor(nums,x), find_ceil(nums,x)]\n",
    "\n",
    "\n",
    "arr = [3, 4, 4, 7, 8, 10]\n",
    "res = find_floor_ceil(arr, 5)\n",
    "print(res)"
   ]
  },
  {
   "cell_type": "markdown",
   "metadata": {},
   "source": [
    "**4. First and last occurrence**\n",
    "\n",
    "Given an array of integers nums sorted in non-decreasing order, find the starting and ending position of a given target value. If the target is not found in the array, return [-1, -1]."
   ]
  },
  {
   "cell_type": "code",
   "execution_count": 11,
   "metadata": {},
   "outputs": [
    {
     "name": "stdout",
     "output_type": "stream",
     "text": [
      "[3, 4]\n"
     ]
    }
   ],
   "source": [
    "class Solution:\n",
    "    def first(self, nums, target):\n",
    "        left, right, first = 0, len(nums)-1, -1\n",
    "        while left<=right:\n",
    "            mid = (left+right)//2\n",
    "            if nums[mid]==target:\n",
    "                first = mid\n",
    "                right = mid-1\n",
    "            elif nums[mid]>target:\n",
    "                right = mid-1\n",
    "            else:\n",
    "                left = mid+1\n",
    "        return first\n",
    "\n",
    "    def last(self, nums, target):\n",
    "        left, right, last = 0, len(nums)-1, -1\n",
    "        while left<=right:\n",
    "            mid = (left+right)//2\n",
    "            if nums[mid]==target:\n",
    "                last = mid\n",
    "                left = mid+1\n",
    "            elif nums[mid]>target:\n",
    "                right = mid-1\n",
    "            else:\n",
    "                left = mid+1\n",
    "        return last\n",
    "    def searchRange(self, nums, target):\n",
    "        return [self.first(nums, target), self.last(nums, target)]\n",
    "    \n",
    "\n",
    "problem = Solution()\n",
    "arr = [5, 7, 7, 8, 8, 10]\n",
    "res = problem.searchRange(arr, 8)\n",
    "print(res)"
   ]
  },
  {
   "cell_type": "markdown",
   "metadata": {},
   "source": [
    "**5. Search in rotated sorted array-I**"
   ]
  },
  {
   "cell_type": "code",
   "execution_count": 3,
   "metadata": {},
   "outputs": [
    {
     "name": "stdout",
     "output_type": "stream",
     "text": [
      "-1\n"
     ]
    }
   ],
   "source": [
    "def search( nums, target):\n",
    "    left, right = 0, len(nums)-1\n",
    "    while left<=right:\n",
    "\n",
    "        mid = left + (right-left)//2\n",
    "        if nums[mid]==target:\n",
    "            return mid\n",
    "\n",
    "        if nums[left]<=nums[mid]:\n",
    "            if nums[left]<=target<=nums[mid]:\n",
    "                right = mid-1\n",
    "            else:\n",
    "                left = mid+1\n",
    "        if nums[right]>=nums[mid]:\n",
    "            if nums[mid]<=target<=nums[right]:\n",
    "                left = mid+1\n",
    "            else:\n",
    "                right = mid-1\n",
    "    return -1\n",
    "\n",
    "arr = [3,4,5,1,2]\n",
    "res = search(arr, 11)\n",
    "print(res)\n",
    "\n",
    "\n",
    "\n",
    "\n",
    "       "
   ]
  },
  {
   "cell_type": "markdown",
   "metadata": {},
   "source": [
    "**6. Search in rotated sorted array-II**"
   ]
  },
  {
   "cell_type": "code",
   "execution_count": 8,
   "metadata": {},
   "outputs": [
    {
     "name": "stdout",
     "output_type": "stream",
     "text": [
      "5\n"
     ]
    }
   ],
   "source": [
    "def search_2(nums, target):\n",
    "    left, right = 0, len(nums)-1\n",
    "    while left<=right:\n",
    "        mid = left + (right-left)//2\n",
    "        if nums[mid]==target:\n",
    "            return mid\n",
    "\n",
    "        if nums[right]==nums[mid]:\n",
    "            right -=1\n",
    "            continue\n",
    "        if nums[mid]==nums[left]:\n",
    "            left+=1\n",
    "            continue\n",
    "\n",
    "        if nums[left]<=nums[mid]:\n",
    "            if nums[left]<=target<=nums[mid]:\n",
    "                right = mid-1\n",
    "            else:\n",
    "                left = mid+1\n",
    "        if nums[mid]<=nums[right]:\n",
    "            if nums[mid]<=target<=nums[right]:\n",
    "                right = mid+1\n",
    "            else:\n",
    "                left = mid-1\n",
    "    return -1\n",
    "\n",
    "arr = [2,2,2,4,5,1,2,2,2,2]\n",
    "res = search_2(arr, 1)\n",
    "print(res)\n"
   ]
  },
  {
   "cell_type": "markdown",
   "metadata": {},
   "source": [
    "**7. Find minimum in Rotated Sorted Array**"
   ]
  },
  {
   "cell_type": "code",
   "execution_count": 12,
   "metadata": {},
   "outputs": [
    {
     "name": "stdout",
     "output_type": "stream",
     "text": [
      "0\n"
     ]
    }
   ],
   "source": [
    "def find_min(arr):\n",
    "    left, right = 0, len(arr)-1\n",
    "    while left<right:\n",
    "        mid = left + (right-left)//2\n",
    "\n",
    "        if arr[mid]<=arr[right]:\n",
    "            right = mid\n",
    "        else:\n",
    "            left = mid+1\n",
    "    return arr[left]\n",
    "arr = [4, 5, 6, 7, 0, 1, 2, 3]\n",
    "\n",
    "res = find_min(arr)\n",
    "print(res)"
   ]
  }
 ],
 "metadata": {
  "kernelspec": {
   "display_name": "Python 3",
   "language": "python",
   "name": "python3"
  },
  "language_info": {
   "codemirror_mode": {
    "name": "ipython",
    "version": 3
   },
   "file_extension": ".py",
   "mimetype": "text/x-python",
   "name": "python",
   "nbconvert_exporter": "python",
   "pygments_lexer": "ipython3",
   "version": "3.12.9"
  }
 },
 "nbformat": 4,
 "nbformat_minor": 2
}
