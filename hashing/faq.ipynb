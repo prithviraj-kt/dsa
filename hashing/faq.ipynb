{
 "cells": [
  {
   "cell_type": "markdown",
   "metadata": {},
   "source": [
    "**1. Longest Consecutive Sequence in an Array**"
   ]
  },
  {
   "cell_type": "code",
   "execution_count": 3,
   "metadata": {},
   "outputs": [
    {
     "name": "stdout",
     "output_type": "stream",
     "text": [
      "8\n"
     ]
    }
   ],
   "source": [
    "def longest_consecutive(nums):\n",
    "    nums = sorted(set(nums))\n",
    "    count = 1\n",
    "    max_count = 1\n",
    "    for i in range(1,len(nums)):\n",
    "        if nums[i]==nums[i-1]+1:\n",
    "            count+=1\n",
    "            max_count = max(count, max_count)\n",
    "        else:\n",
    "            count = 1\n",
    "    return max_count\n",
    "\n",
    "arr = [3,2,4,1,5,7,6,8,100,67,56,39,99]\n",
    "res = longest_consecutive(arr)\n",
    "print(res)"
   ]
  }
 ],
 "metadata": {
  "kernelspec": {
   "display_name": "Python 3",
   "language": "python",
   "name": "python3"
  },
  "language_info": {
   "codemirror_mode": {
    "name": "ipython",
    "version": 3
   },
   "file_extension": ".py",
   "mimetype": "text/x-python",
   "name": "python",
   "nbconvert_exporter": "python",
   "pygments_lexer": "ipython3",
   "version": "3.12.8"
  }
 },
 "nbformat": 4,
 "nbformat_minor": 2
}
